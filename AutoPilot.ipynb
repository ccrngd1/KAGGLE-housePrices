{
 "cells": [
  {
   "cell_type": "code",
   "execution_count": 1,
   "metadata": {},
   "outputs": [],
   "source": [
    "import sagemaker\n",
    "import boto3\n",
    "from sagemaker import get_execution_role\n",
    "import pandas as pd\n",
    "\n",
    "region = boto3.Session().region_name\n",
    "\n",
    "session = sagemaker.Session()\n",
    "bucket = 'lawsnic-aiml-east2'\n",
    "prefix = 'kaggle/house-prices-advanced-regression-techniques'\n",
    "\n",
    "role = get_execution_role()\n",
    "\n",
    "sm = boto3.Session().client(service_name='sagemaker',region_name=region)"
   ]
  },
  {
   "cell_type": "code",
   "execution_count": 2,
   "metadata": {},
   "outputs": [],
   "source": [
    "input_data_config = [{\n",
    "      'DataSource': {\n",
    "        'S3DataSource': {\n",
    "          'S3DataType': 'S3Prefix',\n",
    "          'S3Uri': 's3://{}/{}/input/train'.format(bucket,prefix)\n",
    "        }\n",
    "      },\n",
    "      'TargetAttributeName': 'SalePrice'\n",
    "    }\n",
    "  ]\n",
    "\n",
    "output_data_config = {\n",
    "    'S3OutputPath': 's3://{}/{}/output'.format(bucket,prefix)\n",
    "  }\n",
    "\n",
    "autoMLJobConfig={\n",
    "        'CompletionCriteria': {\n",
    "            'MaxCandidates': 10\n",
    "        }\n",
    "}\n",
    "\n",
    "autoMLJobObjective = {\n",
    "      \"MetricName\": \"R2\"\n",
    "}\n",
    "\n",
    "test_data_s3_path = 's3://{}/{}/input/test.csv'.format(bucket,prefix)"
   ]
  },
  {
   "cell_type": "markdown",
   "metadata": {},
   "source": [
    "Launching the SageMaker Autopilot Job\n",
    "You can now launch the Autopilot job by calling the create_auto_ml_job API. https://docs.aws.amazon.com/cli/latest/reference/sagemaker/create-auto-ml-job.html"
   ]
  },
  {
   "cell_type": "code",
   "execution_count": 3,
   "metadata": {},
   "outputs": [
    {
     "name": "stdout",
     "output_type": "stream",
     "text": [
      "AutoMLJobName: automl-house-price-13-14-11-36\n"
     ]
    },
    {
     "data": {
      "text/plain": [
       "{'AutoMLJobArn': 'arn:aws:sagemaker:us-east-2:791580863750:automl-job/automl-house-price-13-14-11-36',\n",
       " 'ResponseMetadata': {'RequestId': 'b0b1ec31-0010-47e1-991b-02a5625ee4b0',\n",
       "  'HTTPStatusCode': 200,\n",
       "  'HTTPHeaders': {'x-amzn-requestid': 'b0b1ec31-0010-47e1-991b-02a5625ee4b0',\n",
       "   'content-type': 'application/x-amz-json-1.1',\n",
       "   'content-length': '101',\n",
       "   'date': 'Wed, 13 Jul 2022 14:11:37 GMT'},\n",
       "  'RetryAttempts': 0}}"
      ]
     },
     "execution_count": 3,
     "metadata": {},
     "output_type": "execute_result"
    }
   ],
   "source": [
    "from time import gmtime, strftime, sleep\n",
    "timestamp_suffix = strftime('%d-%H-%M-%S', gmtime())\n",
    "\n",
    "auto_ml_job_name = 'automl-house-price-' + timestamp_suffix\n",
    "print('AutoMLJobName: ' + auto_ml_job_name)\n",
    "\n",
    "sm.create_auto_ml_job(AutoMLJobName=auto_ml_job_name,\n",
    "                      InputDataConfig=input_data_config,\n",
    "                      OutputDataConfig=output_data_config,\n",
    "                      AutoMLJobConfig=autoMLJobConfig,\n",
    "                      AutoMLJobObjective=autoMLJobObjective,\n",
    "                      ProblemType=\"Regression\",\n",
    "                      RoleArn=role)"
   ]
  },
  {
   "cell_type": "markdown",
   "metadata": {},
   "source": [
    "## Tracking SageMaker Autopilot job progress<a name=\"Tracking\"></a>\n",
    "SageMaker Autopilot job consists of the following high-level steps : \n",
    "* Analyzing Data, where the dataset is analyzed and Autopilot comes up with a list of ML pipelines that should be tried out on the dataset. The dataset is also split into train and validation sets.\n",
    "* Feature Engineering, where Autopilot performs feature transformation on individual features of the dataset as well as at an aggregate level.\n",
    "* Model Tuning, where the top performing pipeline is selected along with the optimal hyperparameters for the training algorithm (the last stage of the pipeline). "
   ]
  },
  {
   "cell_type": "code",
   "execution_count": 4,
   "metadata": {},
   "outputs": [
    {
     "name": "stdout",
     "output_type": "stream",
     "text": [
      "JobStatus - Secondary Status\n",
      "------------------------------\n",
      "InProgress - AnalyzingData\n",
      "InProgress - AnalyzingData\n",
      "InProgress - AnalyzingData\n",
      "InProgress - AnalyzingData\n",
      "InProgress - AnalyzingData\n",
      "InProgress - AnalyzingData\n",
      "InProgress - AnalyzingData\n",
      "InProgress - AnalyzingData\n",
      "InProgress - AnalyzingData\n",
      "InProgress - AnalyzingData\n",
      "InProgress - AnalyzingData\n",
      "InProgress - AnalyzingData\n",
      "InProgress - AnalyzingData\n",
      "InProgress - AnalyzingData\n",
      "InProgress - AnalyzingData\n",
      "InProgress - AnalyzingData\n",
      "InProgress - AnalyzingData\n",
      "InProgress - AnalyzingData\n",
      "InProgress - AnalyzingData\n",
      "InProgress - FeatureEngineering\n",
      "InProgress - FeatureEngineering\n",
      "InProgress - FeatureEngineering\n",
      "InProgress - FeatureEngineering\n",
      "InProgress - FeatureEngineering\n",
      "InProgress - FeatureEngineering\n",
      "InProgress - FeatureEngineering\n",
      "InProgress - FeatureEngineering\n",
      "InProgress - FeatureEngineering\n",
      "InProgress - FeatureEngineering\n",
      "InProgress - FeatureEngineering\n",
      "InProgress - FeatureEngineering\n",
      "InProgress - FeatureEngineering\n",
      "InProgress - FeatureEngineering\n",
      "InProgress - FeatureEngineering\n",
      "InProgress - FeatureEngineering\n",
      "InProgress - FeatureEngineering\n",
      "InProgress - ModelTuning\n",
      "InProgress - ModelTuning\n",
      "InProgress - ModelTuning\n",
      "InProgress - ModelTuning\n",
      "InProgress - ModelTuning\n",
      "InProgress - ModelTuning\n",
      "InProgress - ModelTuning\n",
      "InProgress - ModelTuning\n",
      "InProgress - MaxCandidatesReached\n",
      "InProgress - GeneratingExplainabilityReport\n",
      "InProgress - GeneratingExplainabilityReport\n",
      "InProgress - GeneratingExplainabilityReport\n",
      "InProgress - GeneratingExplainabilityReport\n",
      "InProgress - GeneratingExplainabilityReport\n",
      "InProgress - GeneratingExplainabilityReport\n",
      "InProgress - GeneratingExplainabilityReport\n",
      "InProgress - GeneratingExplainabilityReport\n",
      "InProgress - GeneratingExplainabilityReport\n",
      "InProgress - GeneratingExplainabilityReport\n",
      "InProgress - GeneratingExplainabilityReport\n",
      "InProgress - GeneratingExplainabilityReport\n",
      "InProgress - GeneratingExplainabilityReport\n",
      "InProgress - GeneratingExplainabilityReport\n",
      "InProgress - GeneratingExplainabilityReport\n",
      "InProgress - GeneratingExplainabilityReport\n",
      "InProgress - GeneratingExplainabilityReport\n",
      "InProgress - GeneratingExplainabilityReport\n",
      "InProgress - GeneratingModelInsightsReport\n",
      "InProgress - GeneratingModelInsightsReport\n",
      "InProgress - GeneratingModelInsightsReport\n",
      "InProgress - GeneratingModelInsightsReport\n",
      "InProgress - GeneratingModelInsightsReport\n",
      "InProgress - GeneratingModelInsightsReport\n",
      "InProgress - GeneratingModelInsightsReport\n",
      "InProgress - GeneratingModelInsightsReport\n",
      "InProgress - GeneratingModelInsightsReport\n",
      "InProgress - GeneratingModelInsightsReport\n",
      "InProgress - GeneratingModelInsightsReport\n",
      "InProgress - GeneratingModelInsightsReport\n",
      "InProgress - GeneratingModelInsightsReport\n",
      "InProgress - GeneratingModelInsightsReport\n",
      "InProgress - GeneratingModelInsightsReport\n",
      "Completed - Completed\n"
     ]
    }
   ],
   "source": [
    "print ('JobStatus - Secondary Status')\n",
    "print('------------------------------')\n",
    "\n",
    "\n",
    "describe_response = sm.describe_auto_ml_job(AutoMLJobName=auto_ml_job_name)\n",
    "print (describe_response['AutoMLJobStatus'] + \" - \" + describe_response['AutoMLJobSecondaryStatus'])\n",
    "job_run_status = describe_response['AutoMLJobStatus']\n",
    "    \n",
    "while job_run_status not in ('Failed', 'Completed', 'Stopped'):\n",
    "    describe_response = sm.describe_auto_ml_job(AutoMLJobName=auto_ml_job_name)\n",
    "    job_run_status = describe_response['AutoMLJobStatus']\n",
    "    \n",
    "    print (describe_response['AutoMLJobStatus'] + \" - \" + describe_response['AutoMLJobSecondaryStatus'])\n",
    "    sleep(30)"
   ]
  },
  {
   "cell_type": "markdown",
   "metadata": {},
   "source": [
    "## Results\n",
    "\n",
    "Now use the describe_auto_ml_job API to look up the best candidate selected by the SageMaker Autopilot job. "
   ]
  },
  {
   "cell_type": "code",
   "execution_count": 5,
   "metadata": {},
   "outputs": [
    {
     "data": {
      "text/plain": [
       "{'AutoMLJobName': 'automl-house-price-13-14-11-36',\n",
       " 'AutoMLJobArn': 'arn:aws:sagemaker:us-east-2:791580863750:automl-job/automl-house-price-13-14-11-36',\n",
       " 'InputDataConfig': [{'DataSource': {'S3DataSource': {'S3DataType': 'S3Prefix',\n",
       "     'S3Uri': 's3://lawsnic-aiml-east2/kaggle/house-prices-advanced-regression-techniques/input/train'}},\n",
       "   'TargetAttributeName': 'SalePrice',\n",
       "   'ContentType': 'text/csv;header=present',\n",
       "   'ChannelType': 'training'}],\n",
       " 'OutputDataConfig': {'S3OutputPath': 's3://lawsnic-aiml-east2/kaggle/house-prices-advanced-regression-techniques/output'},\n",
       " 'RoleArn': 'arn:aws:iam::791580863750:role/service-role/AmazonSageMaker-ExecutionRole-20220707T123330',\n",
       " 'AutoMLJobObjective': {'MetricName': 'R2'},\n",
       " 'ProblemType': 'Regression',\n",
       " 'AutoMLJobConfig': {'CompletionCriteria': {'MaxCandidates': 10}},\n",
       " 'CreationTime': datetime.datetime(2022, 7, 13, 14, 11, 36, 908000, tzinfo=tzlocal()),\n",
       " 'EndTime': datetime.datetime(2022, 7, 13, 14, 49, 57, 871000, tzinfo=tzlocal()),\n",
       " 'LastModifiedTime': datetime.datetime(2022, 7, 13, 14, 49, 57, 899000, tzinfo=tzlocal()),\n",
       " 'BestCandidate': {'CandidateName': 'automl-house-price-13-14-11-36lG-006-a9e0941a',\n",
       "  'FinalAutoMLJobObjectiveMetric': {'MetricName': 'validation:r2',\n",
       "   'Value': 0.8751699924468994},\n",
       "  'ObjectiveStatus': 'Succeeded',\n",
       "  'CandidateSteps': [{'CandidateStepType': 'AWS::SageMaker::ProcessingJob',\n",
       "    'CandidateStepArn': 'arn:aws:sagemaker:us-east-2:791580863750:processing-job/automl-house-price-13-14-11-36-db-1-428b2cdb4a964a8c8016c769f44',\n",
       "    'CandidateStepName': 'automl-house-price-13-14-11-36-db-1-428b2cdb4a964a8c8016c769f44'},\n",
       "   {'CandidateStepType': 'AWS::SageMaker::TrainingJob',\n",
       "    'CandidateStepArn': 'arn:aws:sagemaker:us-east-2:791580863750:training-job/automl-house-price-13-14-11-36-dpp0-1-0a6f825d04314b9fbc98d7543',\n",
       "    'CandidateStepName': 'automl-house-price-13-14-11-36-dpp0-1-0a6f825d04314b9fbc98d7543'},\n",
       "   {'CandidateStepType': 'AWS::SageMaker::TransformJob',\n",
       "    'CandidateStepArn': 'arn:aws:sagemaker:us-east-2:791580863750:transform-job/automl-house-price-13-14-11-36-dpp0-csv-1-9f44f9abe309462a9d5ef',\n",
       "    'CandidateStepName': 'automl-house-price-13-14-11-36-dpp0-csv-1-9f44f9abe309462a9d5ef'},\n",
       "   {'CandidateStepType': 'AWS::SageMaker::TrainingJob',\n",
       "    'CandidateStepArn': 'arn:aws:sagemaker:us-east-2:791580863750:training-job/automl-house-price-13-14-11-36lg-006-a9e0941a',\n",
       "    'CandidateStepName': 'automl-house-price-13-14-11-36lG-006-a9e0941a'}],\n",
       "  'CandidateStatus': 'Completed',\n",
       "  'InferenceContainers': [{'Image': '257758044811.dkr.ecr.us-east-2.amazonaws.com/sagemaker-sklearn-automl:2.5-1-cpu-py3',\n",
       "    'ModelDataUrl': 's3://lawsnic-aiml-east2/kaggle/house-prices-advanced-regression-techniques/output/automl-house-price-13-14-11-36/data-processor-models/automl-house-price-13-14-11-36-dpp0-1-0a6f825d04314b9fbc98d7543/output/model.tar.gz',\n",
       "    'Environment': {'AUTOML_TRANSFORM_MODE': 'feature-transform',\n",
       "     'SAGEMAKER_DEFAULT_INVOCATIONS_ACCEPT': 'application/x-recordio-protobuf',\n",
       "     'SAGEMAKER_PROGRAM': 'sagemaker_serve',\n",
       "     'SAGEMAKER_SUBMIT_DIRECTORY': '/opt/ml/model/code'}},\n",
       "   {'Image': '257758044811.dkr.ecr.us-east-2.amazonaws.com/sagemaker-xgboost:1.3-1-cpu-py3',\n",
       "    'ModelDataUrl': 's3://lawsnic-aiml-east2/kaggle/house-prices-advanced-regression-techniques/output/automl-house-price-13-14-11-36/tuning/automl-hou-dpp0-xgb/automl-house-price-13-14-11-36lG-006-a9e0941a/output/model.tar.gz',\n",
       "    'Environment': {'MAX_CONTENT_LENGTH': '20971520',\n",
       "     'SAGEMAKER_DEFAULT_INVOCATIONS_ACCEPT': 'text/csv'}}],\n",
       "  'CreationTime': datetime.datetime(2022, 7, 13, 14, 30, 29, tzinfo=tzlocal()),\n",
       "  'EndTime': datetime.datetime(2022, 7, 13, 14, 32, 21, tzinfo=tzlocal()),\n",
       "  'LastModifiedTime': datetime.datetime(2022, 7, 13, 14, 33, 14, 635000, tzinfo=tzlocal()),\n",
       "  'CandidateProperties': {'CandidateArtifactLocations': {'Explainability': 's3://lawsnic-aiml-east2/kaggle/house-prices-advanced-regression-techniques/output/automl-house-price-13-14-11-36/documentation/explainability/output',\n",
       "    'ModelInsights': 's3://lawsnic-aiml-east2/kaggle/house-prices-advanced-regression-techniques/output/automl-house-price-13-14-11-36/documentation/model_monitor/output'},\n",
       "   'CandidateMetrics': [{'MetricName': 'MAE',\n",
       "     'Value': 15650.783203125,\n",
       "     'Set': 'Validation',\n",
       "     'StandardMetricName': 'MAE'},\n",
       "    {'MetricName': 'RMSE',\n",
       "     'Value': 27446.7265625,\n",
       "     'Set': 'Validation',\n",
       "     'StandardMetricName': 'RMSE'},\n",
       "    {'MetricName': 'MSE',\n",
       "     'Value': 812588352.0,\n",
       "     'Set': 'Validation',\n",
       "     'StandardMetricName': 'MSE'},\n",
       "    {'MetricName': 'R2',\n",
       "     'Value': 0.8751699924468994,\n",
       "     'Set': 'Validation',\n",
       "     'StandardMetricName': 'R2'}]}},\n",
       " 'AutoMLJobStatus': 'Completed',\n",
       " 'AutoMLJobSecondaryStatus': 'Completed',\n",
       " 'GenerateCandidateDefinitionsOnly': False,\n",
       " 'AutoMLJobArtifacts': {'CandidateDefinitionNotebookLocation': 's3://lawsnic-aiml-east2/kaggle/house-prices-advanced-regression-techniques/output/automl-house-price-13-14-11-36/sagemaker-automl-candidates/automl-house-price-13-14-11-36-pr-1-c0a8282ff1d44b7f8f2196d40fa/notebooks/SageMakerAutopilotCandidateDefinitionNotebook.ipynb',\n",
       "  'DataExplorationNotebookLocation': 's3://lawsnic-aiml-east2/kaggle/house-prices-advanced-regression-techniques/output/automl-house-price-13-14-11-36/sagemaker-automl-candidates/automl-house-price-13-14-11-36-pr-1-c0a8282ff1d44b7f8f2196d40fa/notebooks/SageMakerAutopilotDataExplorationNotebook.ipynb'},\n",
       " 'ResolvedAttributes': {'AutoMLJobObjective': {'MetricName': 'R2'},\n",
       "  'ProblemType': 'Regression',\n",
       "  'CompletionCriteria': {'MaxCandidates': 10,\n",
       "   'MaxRuntimePerTrainingJobInSeconds': 86400,\n",
       "   'MaxAutoMLJobRuntimeInSeconds': 2592000}},\n",
       " 'ResponseMetadata': {'RequestId': 'e7663d5e-6cf1-438f-a6c4-44fee944ec17',\n",
       "  'HTTPStatusCode': 200,\n",
       "  'HTTPHeaders': {'x-amzn-requestid': 'e7663d5e-6cf1-438f-a6c4-44fee944ec17',\n",
       "   'content-type': 'application/x-amz-json-1.1',\n",
       "   'content-length': '5027',\n",
       "   'date': 'Wed, 13 Jul 2022 15:02:42 GMT'},\n",
       "  'RetryAttempts': 0}}"
      ]
     },
     "execution_count": 5,
     "metadata": {},
     "output_type": "execute_result"
    }
   ],
   "source": [
    "sm.describe_auto_ml_job(AutoMLJobName=auto_ml_job_name)"
   ]
  },
  {
   "cell_type": "code",
   "execution_count": 6,
   "metadata": {},
   "outputs": [
    {
     "name": "stdout",
     "output_type": "stream",
     "text": [
      "{'CandidateName': 'automl-house-price-13-14-11-36lG-006-a9e0941a', 'FinalAutoMLJobObjectiveMetric': {'MetricName': 'validation:r2', 'Value': 0.8751699924468994}, 'ObjectiveStatus': 'Succeeded', 'CandidateSteps': [{'CandidateStepType': 'AWS::SageMaker::ProcessingJob', 'CandidateStepArn': 'arn:aws:sagemaker:us-east-2:791580863750:processing-job/automl-house-price-13-14-11-36-db-1-428b2cdb4a964a8c8016c769f44', 'CandidateStepName': 'automl-house-price-13-14-11-36-db-1-428b2cdb4a964a8c8016c769f44'}, {'CandidateStepType': 'AWS::SageMaker::TrainingJob', 'CandidateStepArn': 'arn:aws:sagemaker:us-east-2:791580863750:training-job/automl-house-price-13-14-11-36-dpp0-1-0a6f825d04314b9fbc98d7543', 'CandidateStepName': 'automl-house-price-13-14-11-36-dpp0-1-0a6f825d04314b9fbc98d7543'}, {'CandidateStepType': 'AWS::SageMaker::TransformJob', 'CandidateStepArn': 'arn:aws:sagemaker:us-east-2:791580863750:transform-job/automl-house-price-13-14-11-36-dpp0-csv-1-9f44f9abe309462a9d5ef', 'CandidateStepName': 'automl-house-price-13-14-11-36-dpp0-csv-1-9f44f9abe309462a9d5ef'}, {'CandidateStepType': 'AWS::SageMaker::TrainingJob', 'CandidateStepArn': 'arn:aws:sagemaker:us-east-2:791580863750:training-job/automl-house-price-13-14-11-36lg-006-a9e0941a', 'CandidateStepName': 'automl-house-price-13-14-11-36lG-006-a9e0941a'}], 'CandidateStatus': 'Completed', 'InferenceContainers': [{'Image': '257758044811.dkr.ecr.us-east-2.amazonaws.com/sagemaker-sklearn-automl:2.5-1-cpu-py3', 'ModelDataUrl': 's3://lawsnic-aiml-east2/kaggle/house-prices-advanced-regression-techniques/output/automl-house-price-13-14-11-36/data-processor-models/automl-house-price-13-14-11-36-dpp0-1-0a6f825d04314b9fbc98d7543/output/model.tar.gz', 'Environment': {'AUTOML_TRANSFORM_MODE': 'feature-transform', 'SAGEMAKER_DEFAULT_INVOCATIONS_ACCEPT': 'application/x-recordio-protobuf', 'SAGEMAKER_PROGRAM': 'sagemaker_serve', 'SAGEMAKER_SUBMIT_DIRECTORY': '/opt/ml/model/code'}}, {'Image': '257758044811.dkr.ecr.us-east-2.amazonaws.com/sagemaker-xgboost:1.3-1-cpu-py3', 'ModelDataUrl': 's3://lawsnic-aiml-east2/kaggle/house-prices-advanced-regression-techniques/output/automl-house-price-13-14-11-36/tuning/automl-hou-dpp0-xgb/automl-house-price-13-14-11-36lG-006-a9e0941a/output/model.tar.gz', 'Environment': {'MAX_CONTENT_LENGTH': '20971520', 'SAGEMAKER_DEFAULT_INVOCATIONS_ACCEPT': 'text/csv'}}], 'CreationTime': datetime.datetime(2022, 7, 13, 14, 30, 29, tzinfo=tzlocal()), 'EndTime': datetime.datetime(2022, 7, 13, 14, 32, 21, tzinfo=tzlocal()), 'LastModifiedTime': datetime.datetime(2022, 7, 13, 14, 33, 14, 635000, tzinfo=tzlocal()), 'CandidateProperties': {'CandidateArtifactLocations': {'Explainability': 's3://lawsnic-aiml-east2/kaggle/house-prices-advanced-regression-techniques/output/automl-house-price-13-14-11-36/documentation/explainability/output', 'ModelInsights': 's3://lawsnic-aiml-east2/kaggle/house-prices-advanced-regression-techniques/output/automl-house-price-13-14-11-36/documentation/model_monitor/output'}, 'CandidateMetrics': [{'MetricName': 'MAE', 'Value': 15650.783203125, 'Set': 'Validation', 'StandardMetricName': 'MAE'}, {'MetricName': 'RMSE', 'Value': 27446.7265625, 'Set': 'Validation', 'StandardMetricName': 'RMSE'}, {'MetricName': 'MSE', 'Value': 812588352.0, 'Set': 'Validation', 'StandardMetricName': 'MSE'}, {'MetricName': 'R2', 'Value': 0.8751699924468994, 'Set': 'Validation', 'StandardMetricName': 'R2'}]}}\n",
      "\n",
      "\n",
      "CandidateName: automl-house-price-13-14-11-36lG-006-a9e0941a\n",
      "FinalAutoMLJobObjectiveMetricName: validation:r2\n",
      "FinalAutoMLJobObjectiveMetricValue: 0.8751699924468994\n"
     ]
    }
   ],
   "source": [
    "\n",
    "best_candidate = sm.describe_auto_ml_job(AutoMLJobName=auto_ml_job_name)['BestCandidate']\n",
    "best_candidate_name = best_candidate['CandidateName']\n",
    "print(best_candidate)\n",
    "print('\\n')\n",
    "print(\"CandidateName: \" + best_candidate_name)\n",
    "print(\"FinalAutoMLJobObjectiveMetricName: \" + best_candidate['FinalAutoMLJobObjectiveMetric']['MetricName'])\n",
    "print(\"FinalAutoMLJobObjectiveMetricValue: \" + str(best_candidate['FinalAutoMLJobObjectiveMetric']['Value']))"
   ]
  },
  {
   "cell_type": "markdown",
   "metadata": {},
   "source": [
    "### Perform batch inference using the best candidate\n",
    "\n",
    "Now that you have successfully completed the SageMaker Autopilot job on the dataset, create a model from any of the candidates by using [Inference Pipelines](https://docs.aws.amazon.com/sagemaker/latest/dg/inference-pipelines.html). "
   ]
  },
  {
   "cell_type": "code",
   "execution_count": 7,
   "metadata": {},
   "outputs": [
    {
     "name": "stdout",
     "output_type": "stream",
     "text": [
      "Model ARN corresponding to the best candidate is : arn:aws:sagemaker:us-east-2:791580863750:model/automl-houseprice-model-13-14-11-36\n"
     ]
    }
   ],
   "source": [
    "model_name = 'automl-housePrice-model-' + timestamp_suffix\n",
    "\n",
    "model = sm.create_model(Containers=best_candidate['InferenceContainers'],\n",
    "                            ModelName=model_name,\n",
    "                            ExecutionRoleArn=role)\n",
    "\n",
    "print('Model ARN corresponding to the best candidate is : {}'.format(model['ModelArn']))"
   ]
  },
  {
   "cell_type": "code",
   "execution_count": 8,
   "metadata": {},
   "outputs": [
    {
     "data": {
      "text/plain": [
       "{'TransformJobArn': 'arn:aws:sagemaker:us-east-2:791580863750:transform-job/automl-housepric-transform-13-14-11-36',\n",
       " 'ResponseMetadata': {'RequestId': '15e1fbd7-00d6-49f3-9282-461573b6ce42',\n",
       "  'HTTPStatusCode': 200,\n",
       "  'HTTPHeaders': {'x-amzn-requestid': '15e1fbd7-00d6-49f3-9282-461573b6ce42',\n",
       "   'content-type': 'application/x-amz-json-1.1',\n",
       "   'content-length': '115',\n",
       "   'date': 'Wed, 13 Jul 2022 15:04:48 GMT'},\n",
       "  'RetryAttempts': 0}}"
      ]
     },
     "execution_count": 8,
     "metadata": {},
     "output_type": "execute_result"
    }
   ],
   "source": [
    "transform_job_name = 'automl-housePric-transform-' + timestamp_suffix\n",
    "\n",
    "transform_input = {\n",
    "        'DataSource': {\n",
    "            'S3DataSource': {\n",
    "                'S3DataType': 'S3Prefix',\n",
    "                'S3Uri': test_data_s3_path\n",
    "            }\n",
    "        },\n",
    "        'ContentType': 'text/csv',\n",
    "        'CompressionType': 'None',\n",
    "        'SplitType': 'Line'\n",
    "    }\n",
    "\n",
    "transform_output = {\n",
    "        'S3OutputPath': 's3://{}/{}/inference-results'.format(bucket,prefix),\n",
    "    }\n",
    "\n",
    "transform_resources = {\n",
    "        'InstanceType': 'ml.m5.4xlarge',\n",
    "        'InstanceCount': 1\n",
    "    }\n",
    "\n",
    "sm.create_transform_job(TransformJobName = transform_job_name,\n",
    "                        ModelName = model_name,\n",
    "                        TransformInput = transform_input,\n",
    "                        TransformOutput = transform_output,\n",
    "                        TransformResources = transform_resources\n",
    ")"
   ]
  },
  {
   "cell_type": "code",
   "execution_count": 9,
   "metadata": {},
   "outputs": [
    {
     "name": "stdout",
     "output_type": "stream",
     "text": [
      "JobStatus\n",
      "----------\n",
      "InProgress\n",
      "InProgress\n",
      "InProgress\n",
      "InProgress\n",
      "InProgress\n",
      "InProgress\n",
      "InProgress\n",
      "InProgress\n",
      "InProgress\n",
      "InProgress\n",
      "InProgress\n",
      "InProgress\n",
      "InProgress\n",
      "InProgress\n",
      "InProgress\n",
      "InProgress\n",
      "InProgress\n",
      "InProgress\n",
      "InProgress\n",
      "InProgress\n",
      "InProgress\n",
      "Completed\n"
     ]
    }
   ],
   "source": [
    "print ('JobStatus')\n",
    "print('----------')\n",
    "\n",
    "\n",
    "describe_response = sm.describe_transform_job(TransformJobName = transform_job_name)\n",
    "job_run_status = describe_response['TransformJobStatus']\n",
    "print (job_run_status)\n",
    "\n",
    "while job_run_status not in ('Failed', 'Completed', 'Stopped'):\n",
    "    describe_response = sm.describe_transform_job(TransformJobName = transform_job_name)\n",
    "    job_run_status = describe_response['TransformJobStatus']\n",
    "    print (job_run_status)\n",
    "    sleep(30)"
   ]
  },
  {
   "cell_type": "code",
   "execution_count": 10,
   "metadata": {},
   "outputs": [
    {
     "name": "stdout",
     "output_type": "stream",
     "text": [
      "kaggle/house-prices-advanced-regression-techniques/inference-results/test.csv.out\n"
     ]
    }
   ],
   "source": [
    "s3_output_key = '{}/inference-results/test.csv.out'.format(prefix);\n",
    "local_inference_results_path = 'inference_results.csv'\n",
    "\n",
    "s3 = boto3.resource('s3')\n",
    "inference_results_bucket = s3.Bucket(bucket)\n",
    "\n",
    "print(s3_output_key)"
   ]
  },
  {
   "cell_type": "code",
   "execution_count": 28,
   "metadata": {},
   "outputs": [
    {
     "data": {
      "text/html": [
       "<div>\n",
       "<style scoped>\n",
       "    .dataframe tbody tr th:only-of-type {\n",
       "        vertical-align: middle;\n",
       "    }\n",
       "\n",
       "    .dataframe tbody tr th {\n",
       "        vertical-align: top;\n",
       "    }\n",
       "\n",
       "    .dataframe thead th {\n",
       "        text-align: right;\n",
       "    }\n",
       "</style>\n",
       "<table border=\"1\" class=\"dataframe\">\n",
       "  <thead>\n",
       "    <tr style=\"text-align: right;\">\n",
       "      <th></th>\n",
       "      <th>51427.2734375</th>\n",
       "    </tr>\n",
       "  </thead>\n",
       "  <tbody>\n",
       "    <tr>\n",
       "      <th>0</th>\n",
       "      <td>124217.953125</td>\n",
       "    </tr>\n",
       "    <tr>\n",
       "      <th>1</th>\n",
       "      <td>158185.343750</td>\n",
       "    </tr>\n",
       "    <tr>\n",
       "      <th>2</th>\n",
       "      <td>185572.406250</td>\n",
       "    </tr>\n",
       "    <tr>\n",
       "      <th>3</th>\n",
       "      <td>195268.968750</td>\n",
       "    </tr>\n",
       "    <tr>\n",
       "      <th>4</th>\n",
       "      <td>188283.312500</td>\n",
       "    </tr>\n",
       "    <tr>\n",
       "      <th>...</th>\n",
       "      <td>...</td>\n",
       "    </tr>\n",
       "    <tr>\n",
       "      <th>1454</th>\n",
       "      <td>82366.335938</td>\n",
       "    </tr>\n",
       "    <tr>\n",
       "      <th>1455</th>\n",
       "      <td>83315.015625</td>\n",
       "    </tr>\n",
       "    <tr>\n",
       "      <th>1456</th>\n",
       "      <td>166360.281250</td>\n",
       "    </tr>\n",
       "    <tr>\n",
       "      <th>1457</th>\n",
       "      <td>112267.234375</td>\n",
       "    </tr>\n",
       "    <tr>\n",
       "      <th>1458</th>\n",
       "      <td>218181.546875</td>\n",
       "    </tr>\n",
       "  </tbody>\n",
       "</table>\n",
       "<p>1459 rows × 1 columns</p>\n",
       "</div>"
      ],
      "text/plain": [
       "      51427.2734375\n",
       "0     124217.953125\n",
       "1     158185.343750\n",
       "2     185572.406250\n",
       "3     195268.968750\n",
       "4     188283.312500\n",
       "...             ...\n",
       "1454   82366.335938\n",
       "1455   83315.015625\n",
       "1456  166360.281250\n",
       "1457  112267.234375\n",
       "1458  218181.546875\n",
       "\n",
       "[1459 rows x 1 columns]"
      ]
     },
     "execution_count": 28,
     "metadata": {},
     "output_type": "execute_result"
    }
   ],
   "source": [
    "inference_results_bucket.download_file(s3_output_key, local_inference_results_path);\n",
    "\n",
    "data = pd.read_csv(local_inference_results_path, sep=';')\n",
    "pd.set_option('display.max_rows', 10)         # Keep the output on one page\n",
    "data"
   ]
  },
  {
   "cell_type": "code",
   "execution_count": 33,
   "metadata": {},
   "outputs": [
    {
     "data": {
      "text/html": [
       "<div>\n",
       "<style scoped>\n",
       "    .dataframe tbody tr th:only-of-type {\n",
       "        vertical-align: middle;\n",
       "    }\n",
       "\n",
       "    .dataframe tbody tr th {\n",
       "        vertical-align: top;\n",
       "    }\n",
       "\n",
       "    .dataframe thead th {\n",
       "        text-align: right;\n",
       "    }\n",
       "</style>\n",
       "<table border=\"1\" class=\"dataframe\">\n",
       "  <thead>\n",
       "    <tr style=\"text-align: right;\">\n",
       "      <th></th>\n",
       "      <th>Id</th>\n",
       "      <th>SalePrice</th>\n",
       "    </tr>\n",
       "  </thead>\n",
       "  <tbody>\n",
       "    <tr>\n",
       "      <th>0</th>\n",
       "      <td>1461</td>\n",
       "      <td>124217.953125</td>\n",
       "    </tr>\n",
       "    <tr>\n",
       "      <th>1</th>\n",
       "      <td>1462</td>\n",
       "      <td>158185.343750</td>\n",
       "    </tr>\n",
       "    <tr>\n",
       "      <th>2</th>\n",
       "      <td>1463</td>\n",
       "      <td>185572.406250</td>\n",
       "    </tr>\n",
       "    <tr>\n",
       "      <th>3</th>\n",
       "      <td>1464</td>\n",
       "      <td>195268.968750</td>\n",
       "    </tr>\n",
       "    <tr>\n",
       "      <th>4</th>\n",
       "      <td>1465</td>\n",
       "      <td>188283.312500</td>\n",
       "    </tr>\n",
       "    <tr>\n",
       "      <th>...</th>\n",
       "      <td>...</td>\n",
       "      <td>...</td>\n",
       "    </tr>\n",
       "    <tr>\n",
       "      <th>1454</th>\n",
       "      <td>2915</td>\n",
       "      <td>82366.335938</td>\n",
       "    </tr>\n",
       "    <tr>\n",
       "      <th>1455</th>\n",
       "      <td>2916</td>\n",
       "      <td>83315.015625</td>\n",
       "    </tr>\n",
       "    <tr>\n",
       "      <th>1456</th>\n",
       "      <td>2917</td>\n",
       "      <td>166360.281250</td>\n",
       "    </tr>\n",
       "    <tr>\n",
       "      <th>1457</th>\n",
       "      <td>2918</td>\n",
       "      <td>112267.234375</td>\n",
       "    </tr>\n",
       "    <tr>\n",
       "      <th>1458</th>\n",
       "      <td>2919</td>\n",
       "      <td>218181.546875</td>\n",
       "    </tr>\n",
       "  </tbody>\n",
       "</table>\n",
       "<p>1459 rows × 2 columns</p>\n",
       "</div>"
      ],
      "text/plain": [
       "        Id      SalePrice\n",
       "0     1461  124217.953125\n",
       "1     1462  158185.343750\n",
       "2     1463  185572.406250\n",
       "3     1464  195268.968750\n",
       "4     1465  188283.312500\n",
       "...    ...            ...\n",
       "1454  2915   82366.335938\n",
       "1455  2916   83315.015625\n",
       "1456  2917  166360.281250\n",
       "1457  2918  112267.234375\n",
       "1458  2919  218181.546875\n",
       "\n",
       "[1459 rows x 2 columns]"
      ]
     },
     "metadata": {},
     "output_type": "display_data"
    }
   ],
   "source": [
    "test_data = pd.read_csv(\"./test.csv\")\n",
    "#display(test_data)\n",
    "\n",
    "data['Id'] = test_data['Id']\n",
    "data.columns.values[0] = 'SalePrice'\n",
    "#data.to_csv('./submission.csv')\n",
    "\n",
    "#display(data)\n",
    "\n",
    "new_data = data[['Id','SalePrice']].copy()\n",
    "display(new_data)\n",
    "new_data.to_csv('./submission.csv', index=False)\n",
    "\n",
    "#https://www.kaggle.com/submissions/27426344/27426344.raw score of 0.12704"
   ]
  },
  {
   "cell_type": "markdown",
   "metadata": {},
   "source": [
    "### View other candidates explored by SageMaker Autopilot\n",
    "You can view all the candidates (pipeline evaluations with different hyperparameter combinations) that were explored by SageMaker Autopilot and sort them by their final performance metric."
   ]
  },
  {
   "cell_type": "code",
   "execution_count": null,
   "metadata": {},
   "outputs": [],
   "source": [
    "# cell 14\n",
    "candidates = sm.list_candidates_for_auto_ml_job(AutoMLJobName=auto_ml_job_name, SortBy='FinalObjectiveMetricValue')['Candidates']\n",
    "index = 1\n",
    "for candidate in candidates:\n",
    "  print (str(index) + \"  \" + candidate['CandidateName'] + \"  \" + str(candidate['FinalAutoMLJobObjectiveMetric']['Value']))\n",
    "  index += 1"
   ]
  },
  {
   "cell_type": "markdown",
   "metadata": {},
   "source": [
    "### Candidate Generation Notebook\n",
    "    \n",
    "Sagemaker AutoPilot also auto-generates a Candidate Definitions notebook. This notebook can be used to interactively step through the various steps taken by the Sagemaker Autopilot to arrive at the best candidate. This notebook can also be used to override various runtime parameters like parallelism, hardware used, algorithms explored, feature extraction scripts and more.\n",
    "    \n",
    "The notebook can be downloaded from the following Amazon S3 location:"
   ]
  },
  {
   "cell_type": "code",
   "execution_count": null,
   "metadata": {},
   "outputs": [],
   "source": [
    "# cell 15\n",
    "sm.describe_auto_ml_job(AutoMLJobName=auto_ml_job_name)['AutoMLJobArtifacts']['CandidateDefinitionNotebookLocation']\n"
   ]
  },
  {
   "cell_type": "markdown",
   "metadata": {},
   "source": [
    "### Data Exploration Notebook\n",
    "Sagemaker Autopilot also auto-generates a Data Exploration notebook, which can be downloaded from the following Amazon S3 location:"
   ]
  },
  {
   "cell_type": "code",
   "execution_count": null,
   "metadata": {},
   "outputs": [],
   "source": [
    "# cell 16\n",
    "sm.describe_auto_ml_job(AutoMLJobName=auto_ml_job_name)['AutoMLJobArtifacts']['DataExplorationNotebookLocation']\n"
   ]
  }
 ],
 "metadata": {
  "instance_type": "ml.t3.medium",
  "kernelspec": {
   "display_name": "Python 3 (Data Science)",
   "language": "python",
   "name": "python3__SAGEMAKER_INTERNAL__arn:aws:sagemaker:us-east-2:429704687514:image/datascience-1.0"
  },
  "language_info": {
   "codemirror_mode": {
    "name": "ipython",
    "version": 3
   },
   "file_extension": ".py",
   "mimetype": "text/x-python",
   "name": "python",
   "nbconvert_exporter": "python",
   "pygments_lexer": "ipython3",
   "version": "3.7.10"
  }
 },
 "nbformat": 4,
 "nbformat_minor": 4
}
